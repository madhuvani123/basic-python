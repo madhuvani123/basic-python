{
 "cells": [
  {
   "cell_type": "markdown",
   "id": "610cd797-ce73-424f-ab12-c7c27e020545",
   "metadata": {},
   "source": [
    "TUPLE"
   ]
  },
  {
   "cell_type": "markdown",
   "id": "c1f2184f-cca6-4b45-a995-f0efe916d5a5",
   "metadata": {},
   "source": [
    "t1()"
   ]
  },
  {
   "cell_type": "code",
   "execution_count": 4,
   "id": "a1c99f2d-223b-4ca8-abba-564042328e2d",
   "metadata": {},
   "outputs": [
    {
     "data": {
      "text/plain": [
       "(10, 30, 60)"
      ]
     },
     "execution_count": 4,
     "metadata": {},
     "output_type": "execute_result"
    }
   ],
   "source": [
    "t2=(10,30,60)\n",
    "t2"
   ]
  },
  {
   "cell_type": "code",
   "execution_count": 5,
   "id": "27d3b087-e022-4ddb-b2d2-831d6887638f",
   "metadata": {},
   "outputs": [
    {
     "data": {
      "text/plain": [
       "(10.77, 30.66, 60.89)"
      ]
     },
     "execution_count": 5,
     "metadata": {},
     "output_type": "execute_result"
    }
   ],
   "source": [
    "t3=(10.77,30.66,60.89)\n",
    "t3"
   ]
  },
  {
   "cell_type": "code",
   "execution_count": 6,
   "id": "10b9fc4c-e0c9-42cd-bcbb-46267a2d99e7",
   "metadata": {},
   "outputs": [
    {
     "data": {
      "text/plain": [
       "('one', 'two', 'three')"
      ]
     },
     "execution_count": 6,
     "metadata": {},
     "output_type": "execute_result"
    }
   ],
   "source": [
    "t4 = ('one','two','three')\n",
    "t4"
   ]
  },
  {
   "cell_type": "code",
   "execution_count": 7,
   "id": "e421de1a-ed34-438d-b3b4-961e86741be2",
   "metadata": {},
   "outputs": [
    {
     "data": {
      "text/plain": [
       "('amit', 25, (50, 100), (150, 90))"
      ]
     },
     "execution_count": 7,
     "metadata": {},
     "output_type": "execute_result"
    }
   ],
   "source": [
    "t5 = ('amit',25,(50,100),(150,90))\n",
    "t5"
   ]
  },
  {
   "cell_type": "code",
   "execution_count": 10,
   "id": "9239c5c8-f293-43c2-9bc4-3167c6a25719",
   "metadata": {},
   "outputs": [
    {
     "data": {
      "text/plain": [
       "('amit', 20.41, 78, (7+4j), 'true', 85)"
      ]
     },
     "execution_count": 10,
     "metadata": {},
     "output_type": "execute_result"
    }
   ],
   "source": [
    "t6 = ('amit',20.41,78,(7+4j), 'true' ,85)\n",
    "t6"
   ]
  },
  {
   "cell_type": "code",
   "execution_count": 11,
   "id": "ad2dc14c-e1af-44e7-88c2-787776494122",
   "metadata": {},
   "outputs": [
    {
     "data": {
      "text/plain": [
       "6"
      ]
     },
     "execution_count": 11,
     "metadata": {},
     "output_type": "execute_result"
    }
   ],
   "source": [
    "len(t6)"
   ]
  },
  {
   "cell_type": "markdown",
   "id": "8cbe2171-e503-4db2-b9fd-0f249793c54a",
   "metadata": {},
   "source": [
    "TUPLE INDEXING"
   ]
  },
  {
   "cell_type": "code",
   "execution_count": 12,
   "id": "987accab-4570-48e9-8a24-74c0ee315c91",
   "metadata": {},
   "outputs": [
    {
     "data": {
      "text/plain": [
       "'amit'"
      ]
     },
     "execution_count": 12,
     "metadata": {},
     "output_type": "execute_result"
    }
   ],
   "source": [
    "t6[0]"
   ]
  },
  {
   "cell_type": "code",
   "execution_count": 13,
   "id": "a426e672-42f5-4de8-95ca-adfb319b9c6e",
   "metadata": {},
   "outputs": [
    {
     "data": {
      "text/plain": [
       "85"
      ]
     },
     "execution_count": 13,
     "metadata": {},
     "output_type": "execute_result"
    }
   ],
   "source": [
    "t6[-1]"
   ]
  },
  {
   "cell_type": "code",
   "execution_count": 14,
   "id": "d3437eeb-3fd0-46a6-b46f-5d3e858b1b78",
   "metadata": {},
   "outputs": [
    {
     "data": {
      "text/plain": [
       "('amit', 20.41, 78, (7+4j), 'true', 85)"
      ]
     },
     "execution_count": 14,
     "metadata": {},
     "output_type": "execute_result"
    }
   ],
   "source": [
    "t6[:]"
   ]
  },
  {
   "cell_type": "code",
   "execution_count": 15,
   "id": "0f22f14f-2484-49b4-b620-8ad673a6b66a",
   "metadata": {},
   "outputs": [
    {
     "data": {
      "text/plain": [
       "'m'"
      ]
     },
     "execution_count": 15,
     "metadata": {},
     "output_type": "execute_result"
    }
   ],
   "source": [
    "t6[0][1]"
   ]
  },
  {
   "cell_type": "markdown",
   "id": "dc100427-6bcd-498d-96b7-b6ac91f401a6",
   "metadata": {},
   "source": [
    "TUPLE SLICING"
   ]
  },
  {
   "cell_type": "code",
   "execution_count": 24,
   "id": "a6baa360-108b-4970-9025-98c3313c4978",
   "metadata": {},
   "outputs": [
    {
     "data": {
      "text/plain": [
       "('sixty one',\n",
       " 'sixty two',\n",
       " 'sixty three',\n",
       " 'sixty four',\n",
       " 'sixty five',\n",
       " 'sixty six',\n",
       " 'sixty seven')"
      ]
     },
     "execution_count": 24,
     "metadata": {},
     "output_type": "execute_result"
    }
   ],
   "source": [
    "t7= ('sixty one','sixty two','sixty three','sixty four', 'sixty five','sixty six','sixty seven')\n",
    "t7"
   ]
  },
  {
   "cell_type": "code",
   "execution_count": 17,
   "id": "fa5e001e-beb7-4c96-9530-c83032849d8b",
   "metadata": {},
   "outputs": [
    {
     "data": {
      "text/plain": [
       "('sixty seven',\n",
       " 'sixty six',\n",
       " 'sixty five',\n",
       " 'sixty four',\n",
       " 'sixty three',\n",
       " 'sixty two',\n",
       " 'sixty one')"
      ]
     },
     "execution_count": 17,
     "metadata": {},
     "output_type": "execute_result"
    }
   ],
   "source": [
    "t7[::-1]"
   ]
  },
  {
   "cell_type": "code",
   "execution_count": 18,
   "id": "899761d4-54e3-4771-9112-45b3a77879c0",
   "metadata": {},
   "outputs": [
    {
     "data": {
      "text/plain": [
       "'sixty seven'"
      ]
     },
     "execution_count": 18,
     "metadata": {},
     "output_type": "execute_result"
    }
   ],
   "source": [
    "t7[-1]"
   ]
  },
  {
   "cell_type": "code",
   "execution_count": 19,
   "id": "39a9ea67-cc36-4554-8be2-7e4de72a5dee",
   "metadata": {},
   "outputs": [
    {
     "data": {
      "text/plain": [
       "('sixty one', 'sixty two', 'sixty three')"
      ]
     },
     "execution_count": 19,
     "metadata": {},
     "output_type": "execute_result"
    }
   ],
   "source": [
    "t7[0:3]"
   ]
  },
  {
   "cell_type": "code",
   "execution_count": 20,
   "id": "ac579891-e7b8-4956-81bc-3009c44b10e9",
   "metadata": {},
   "outputs": [
    {
     "data": {
      "text/plain": [
       "'sixty seven'"
      ]
     },
     "execution_count": 20,
     "metadata": {},
     "output_type": "execute_result"
    }
   ],
   "source": [
    "t7[-1]"
   ]
  },
  {
   "cell_type": "code",
   "execution_count": 21,
   "id": "51e308ae-7b12-4438-9935-5262ec17c5c6",
   "metadata": {},
   "outputs": [
    {
     "data": {
      "text/plain": [
       "('sixty four', 'sixty five', 'sixty six', 'sixty seven')"
      ]
     },
     "execution_count": 21,
     "metadata": {},
     "output_type": "execute_result"
    }
   ],
   "source": [
    "t7[3:]"
   ]
  },
  {
   "cell_type": "code",
   "execution_count": 22,
   "id": "2549cdab-7c6b-44e0-aff7-82f556bc4ee9",
   "metadata": {},
   "outputs": [
    {
     "data": {
      "text/plain": [
       "('sixty one', 'sixty two', 'sixty three')"
      ]
     },
     "execution_count": 22,
     "metadata": {},
     "output_type": "execute_result"
    }
   ],
   "source": [
    "t7[:3]"
   ]
  },
  {
   "cell_type": "code",
   "execution_count": 23,
   "id": "7b41491a-83de-4fbc-a8ac-0a424cd2352e",
   "metadata": {},
   "outputs": [
    {
     "data": {
      "text/plain": [
       "('sixty one', 'sixty three', 'sixty five', 'sixty seven')"
      ]
     },
     "execution_count": 23,
     "metadata": {},
     "output_type": "execute_result"
    }
   ],
   "source": [
    "t7[0:9:2]"
   ]
  },
  {
   "cell_type": "markdown",
   "id": "7c1721be-1f95-4c8c-8511-fb21e1a34c45",
   "metadata": {},
   "source": [
    "LOOP THROUGH A TUPLE"
   ]
  },
  {
   "cell_type": "markdown",
   "id": "7a584eec-c76d-4da5-abec-aeed76139851",
   "metadata": {},
   "source": [
    "t7"
   ]
  },
  {
   "cell_type": "code",
   "execution_count": 26,
   "id": "448453f6-cadc-4196-8bd3-13e40a95153d",
   "metadata": {},
   "outputs": [
    {
     "name": "stdout",
     "output_type": "stream",
     "text": [
      "sixty one\n",
      "sixty two\n",
      "sixty three\n",
      "sixty four\n",
      "sixty five\n",
      "sixty six\n",
      "sixty seven\n"
     ]
    }
   ],
   "source": [
    "for i in t7:\n",
    "   print(i)"
   ]
  },
  {
   "cell_type": "code",
   "execution_count": 27,
   "id": "b918fdbf-6863-4855-b682-edce6daeaed4",
   "metadata": {},
   "outputs": [
    {
     "name": "stdout",
     "output_type": "stream",
     "text": [
      "(0, 'sixty one')\n",
      "(1, 'sixty two')\n",
      "(2, 'sixty three')\n",
      "(3, 'sixty four')\n",
      "(4, 'sixty five')\n",
      "(5, 'sixty six')\n",
      "(6, 'sixty seven')\n"
     ]
    }
   ],
   "source": [
    "for i in enumerate(t7):\n",
    "    print(i)"
   ]
  },
  {
   "cell_type": "markdown",
   "id": "c097cc23-a840-44e8-89b8-e1e639cf77e2",
   "metadata": {},
   "source": [
    "TUPLE MEMBERSHIP"
   ]
  },
  {
   "cell_type": "code",
   "execution_count": 28,
   "id": "b24ec400-4e22-4a57-a658-71b2e3c873ff",
   "metadata": {},
   "outputs": [
    {
     "data": {
      "text/plain": [
       "('amit', 20.41, 78, (7+4j), 'true', 85)"
      ]
     },
     "execution_count": 28,
     "metadata": {},
     "output_type": "execute_result"
    }
   ],
   "source": [
    "t6"
   ]
  },
  {
   "cell_type": "code",
   "execution_count": 29,
   "id": "4d639a76-bd81-4cac-ae92-e0c61c727bf2",
   "metadata": {},
   "outputs": [
    {
     "data": {
      "text/plain": [
       "True"
      ]
     },
     "execution_count": 29,
     "metadata": {},
     "output_type": "execute_result"
    }
   ],
   "source": [
    "'amit' in t6"
   ]
  },
  {
   "cell_type": "code",
   "execution_count": 30,
   "id": "f0ccaab7-f9f9-41eb-92cc-272b45418fed",
   "metadata": {},
   "outputs": [
    {
     "name": "stdout",
     "output_type": "stream",
     "text": [
      "no\n"
     ]
    }
   ],
   "source": [
    "if 'three' in t6:\n",
    "    print('yes')\n",
    "else:\n",
    "9    print('no')"
   ]
  },
  {
   "cell_type": "markdown",
   "id": "a23af1fb-c4b3-4f34-8ab0-dbd79a29c01f",
   "metadata": {},
   "source": [
    "TUPLE INDEXING"
   ]
  },
  {
   "cell_type": "code",
   "execution_count": 31,
   "id": "605259e2-0dc0-418c-8a59-bef9d6368ceb",
   "metadata": {},
   "outputs": [
    {
     "data": {
      "text/plain": [
       "2"
      ]
     },
     "execution_count": 31,
     "metadata": {},
     "output_type": "execute_result"
    }
   ],
   "source": [
    "t6.index(78)"
   ]
  },
  {
   "cell_type": "markdown",
   "id": "a5703a3e-b9ef-46d0-8dc5-f99f0575dbb7",
   "metadata": {},
   "source": [
    "SORTING"
   ]
  },
  {
   "cell_type": "code",
   "execution_count": 32,
   "id": "af23fe83-6f98-463e-b37c-33ce925237ab",
   "metadata": {},
   "outputs": [
    {
     "data": {
      "text/plain": [
       "(11, 55, 44, 88, 99, 44, 66, 22, 77, 24, 34)"
      ]
     },
     "execution_count": 32,
     "metadata": {},
     "output_type": "execute_result"
    }
   ],
   "source": [
    "t11 = (11,55,44,88,99,44,66,22,77,24,34)\n",
    "t11"
   ]
  },
  {
   "cell_type": "code",
   "execution_count": 33,
   "id": "2a1a8871-b209-40e8-8f50-02e476e547ec",
   "metadata": {},
   "outputs": [
    {
     "data": {
      "text/plain": [
       "[11, 22, 24, 34, 44, 44, 55, 66, 77, 88, 99]"
      ]
     },
     "execution_count": 33,
     "metadata": {},
     "output_type": "execute_result"
    }
   ],
   "source": [
    "sorted(t11)"
   ]
  },
  {
   "cell_type": "code",
   "execution_count": 35,
   "id": "a122c898-ec40-4de3-915c-b082d4d05b2a",
   "metadata": {},
   "outputs": [
    {
     "data": {
      "text/plain": [
       "[99, 88, 77, 66, 55, 44, 44, 34, 24, 22, 11]"
      ]
     },
     "execution_count": 35,
     "metadata": {},
     "output_type": "execute_result"
    }
   ],
   "source": [
    "sorted(t11,reverse='true')"
   ]
  },
  {
   "cell_type": "code",
   "execution_count": 37,
   "id": "eaba17a0-283c-4ca9-a2c0-e0a2a370a3c4",
   "metadata": {},
   "outputs": [
    {
     "data": {
      "text/plain": [
       "[99, 88, 77, 66, 55, 44, 44, 34, 24, 22, 11]"
      ]
     },
     "execution_count": 37,
     "metadata": {},
     "output_type": "execute_result"
    }
   ],
   "source": [
    "sorted(t11,reverse='false')"
   ]
  },
  {
   "cell_type": "markdown",
   "id": "280099e1-f93c-4a53-941f-05a2ca8d3999",
   "metadata": {},
   "source": [
    "SET"
   ]
  },
  {
   "cell_type": "code",
   "execution_count": 38,
   "id": "36147aed-22ed-4fd6-b9e7-594996668b7e",
   "metadata": {},
   "outputs": [
    {
     "data": {
      "text/plain": [
       "set"
      ]
     },
     "execution_count": 38,
     "metadata": {},
     "output_type": "execute_result"
    }
   ],
   "source": [
    "s0=set()\n",
    "type(s0)"
   ]
  },
  {
   "cell_type": "code",
   "execution_count": 39,
   "id": "9fac8a37-cafd-4fc2-9516-994b3f43fc1a",
   "metadata": {},
   "outputs": [
    {
     "data": {
      "text/plain": [
       "set"
      ]
     },
     "execution_count": 39,
     "metadata": {},
     "output_type": "execute_result"
    }
   ],
   "source": [
    "s={4,5,6,7}\n",
    "type(s)"
   ]
  },
  {
   "cell_type": "code",
   "execution_count": 40,
   "id": "c6ef12a6-4b4c-4204-bea3-08aee65b358a",
   "metadata": {},
   "outputs": [
    {
     "data": {
      "text/plain": [
       "{4, 5, 6, 7}"
      ]
     },
     "execution_count": 40,
     "metadata": {},
     "output_type": "execute_result"
    }
   ],
   "source": [
    "s"
   ]
  },
  {
   "cell_type": "code",
   "execution_count": 41,
   "id": "220fb059-396a-438c-95bb-062db785106a",
   "metadata": {},
   "outputs": [
    {
     "data": {
      "text/plain": [
       "4"
      ]
     },
     "execution_count": 41,
     "metadata": {},
     "output_type": "execute_result"
    }
   ],
   "source": [
    "len(s)"
   ]
  },
  {
   "cell_type": "code",
   "execution_count": 42,
   "id": "bcb92658-29b3-41a3-8aed-98c2abca7d10",
   "metadata": {},
   "outputs": [
    {
     "data": {
      "text/plain": [
       "{1, 2, 3, 4, 5, 6}"
      ]
     },
     "execution_count": 42,
     "metadata": {},
     "output_type": "execute_result"
    }
   ],
   "source": [
    "s1={1,2,3,4,5,6,1,2}\n",
    "s1"
   ]
  },
  {
   "cell_type": "code",
   "execution_count": 43,
   "id": "4bcc6ff7-d71b-4a4a-820c-1e093f31cf7d",
   "metadata": {},
   "outputs": [
    {
     "data": {
      "text/plain": [
       "{1.2, 2.3, 3.4, 4.5}"
      ]
     },
     "execution_count": 43,
     "metadata": {},
     "output_type": "execute_result"
    }
   ],
   "source": [
    "s2={1.2,2.3,3.4,4.5}\n",
    "s2"
   ]
  },
  {
   "cell_type": "code",
   "execution_count": 44,
   "id": "b6a72a27-71a0-48b7-adfc-61a1acb2cf1f",
   "metadata": {},
   "outputs": [
    {
     "data": {
      "text/plain": [
       "{'amit', 'madhu', 'vineeth'}"
      ]
     },
     "execution_count": 44,
     "metadata": {},
     "output_type": "execute_result"
    }
   ],
   "source": [
    "s3={'amit','madhu','vineeth'}\n",
    "s3"
   ]
  },
  {
   "cell_type": "code",
   "execution_count": 45,
   "id": "4958b425-c395-4969-bad9-b2462fedb7e5",
   "metadata": {},
   "outputs": [
    {
     "data": {
      "text/plain": [
       "{(10, 20, 30), 10, 10.2, 'vineeth'}"
      ]
     },
     "execution_count": 45,
     "metadata": {},
     "output_type": "execute_result"
    }
   ],
   "source": [
    "s4={10,10.20,'vineeth',(10,20,30)}\n",
    "s4"
   ]
  },
  {
   "cell_type": "code",
   "execution_count": 47,
   "id": "1b23e78d-0bae-4c7c-8a4a-0703a8f8a6e2",
   "metadata": {},
   "outputs": [
    {
     "data": {
      "text/plain": [
       "{('one', 'two', 'three', 'four', 'five')}"
      ]
     },
     "execution_count": 47,
     "metadata": {},
     "output_type": "execute_result"
    }
   ],
   "source": [
    "s5={('one','two','three','four','five')}\n",
    "s5"
   ]
  },
  {
   "cell_type": "markdown",
   "id": "51a2db85-56a1-4586-a932-d18edba7b452",
   "metadata": {},
   "source": [
    "LOOP THROUGH A SET"
   ]
  },
  {
   "cell_type": "code",
   "execution_count": 49,
   "id": "9a8a5f1a-873d-4824-ba8c-00ea15747c4e",
   "metadata": {},
   "outputs": [
    {
     "name": "stdout",
     "output_type": "stream",
     "text": [
      "('one', 'two', 'three', 'four', 'five')\n"
     ]
    }
   ],
   "source": [
    "for i in s5:\n",
    "    print(i)"
   ]
  },
  {
   "cell_type": "code",
   "execution_count": 50,
   "id": "5dbaab64-c89e-4afd-8165-78b5c35f04e4",
   "metadata": {},
   "outputs": [
    {
     "name": "stdout",
     "output_type": "stream",
     "text": [
      "(0, ('one', 'two', 'three', 'four', 'five'))\n"
     ]
    }
   ],
   "source": [
    "for i in enumerate(s5):\n",
    "    print(i)"
   ]
  },
  {
   "cell_type": "markdown",
   "id": "0394704b-f49e-43a9-9b95-453539826869",
   "metadata": {},
   "source": [
    "SET MEMBERSHIP"
   ]
  },
  {
   "cell_type": "code",
   "execution_count": 51,
   "id": "74f45908-4790-4805-9763-8cf95b938131",
   "metadata": {},
   "outputs": [
    {
     "data": {
      "text/plain": [
       "{('one', 'two', 'three', 'four', 'five')}"
      ]
     },
     "execution_count": 51,
     "metadata": {},
     "output_type": "execute_result"
    }
   ],
   "source": [
    "s5"
   ]
  },
  {
   "cell_type": "code",
   "execution_count": 52,
   "id": "5fbc0847-a1f9-4e67-ba87-985efb1e20d8",
   "metadata": {},
   "outputs": [
    {
     "data": {
      "text/plain": [
       "False"
      ]
     },
     "execution_count": 52,
     "metadata": {},
     "output_type": "execute_result"
    }
   ],
   "source": [
    "'madhu' in s5"
   ]
  },
  {
   "cell_type": "code",
   "execution_count": 53,
   "id": "ada2f9bf-412e-44ef-b883-b290b710a6b4",
   "metadata": {},
   "outputs": [
    {
     "name": "stdout",
     "output_type": "stream",
     "text": [
      "madhu is not happy\n"
     ]
    }
   ],
   "source": [
    "if 'vineeth' in s5:\n",
    "    print('madhu is happy')\n",
    "else:\n",
    "    print('madhu is not happy')"
   ]
  },
  {
   "cell_type": "markdown",
   "id": "857bad26-4b69-4f1d-b167-0ac34ec33c4d",
   "metadata": {},
   "source": [
    "ADD & REMOVE FUCTIONS"
   ]
  },
  {
   "cell_type": "code",
   "execution_count": 54,
   "id": "ae9e8885-9440-4f6b-b3c2-e19a6ff5e8c8",
   "metadata": {},
   "outputs": [
    {
     "data": {
      "text/plain": [
       "{('one', 'two', 'three', 'four', 'five')}"
      ]
     },
     "execution_count": 54,
     "metadata": {},
     "output_type": "execute_result"
    }
   ],
   "source": [
    "s5"
   ]
  },
  {
   "cell_type": "code",
   "execution_count": 56,
   "id": "ad24b98b-271d-4886-8fec-ac03904d2a00",
   "metadata": {},
   "outputs": [
    {
     "data": {
      "text/plain": [
       "{'amit', 'madhu', 'sumit', 'vineeth'}"
      ]
     },
     "execution_count": 56,
     "metadata": {},
     "output_type": "execute_result"
    }
   ],
   "source": [
    "s3.add('sumit')\n",
    "s3"
   ]
  },
  {
   "cell_type": "code",
   "execution_count": 57,
   "id": "b61b5277-34b8-4e0b-b09b-3fc093e21e5e",
   "metadata": {},
   "outputs": [
    {
     "data": {
      "text/plain": [
       "{'amit', 'devi', 'madhu', 'renuka', 'sumit', 'suraj', 'vineeth'}"
      ]
     },
     "execution_count": 57,
     "metadata": {},
     "output_type": "execute_result"
    }
   ],
   "source": [
    "s3.update(['renuka','devi','suraj'])\n",
    "s3"
   ]
  },
  {
   "cell_type": "code",
   "execution_count": 58,
   "id": "a6405d70-a8c9-4a58-9cf0-a6754cc79ec5",
   "metadata": {},
   "outputs": [
    {
     "data": {
      "text/plain": [
       "{'amit', 'devi', 'madhu', 'renuka', 'sumit', 'suraj'}"
      ]
     },
     "execution_count": 58,
     "metadata": {},
     "output_type": "execute_result"
    }
   ],
   "source": [
    "s3.remove('vineeth')\n",
    "s3"
   ]
  },
  {
   "cell_type": "code",
   "execution_count": 59,
   "id": "ec058754-7e4d-4ca7-a0b2-d43cd0211915",
   "metadata": {},
   "outputs": [
    {
     "data": {
      "text/plain": [
       "{'amit', 'devi', 'madhu', 'sumit', 'suraj'}"
      ]
     },
     "execution_count": 59,
     "metadata": {},
     "output_type": "execute_result"
    }
   ],
   "source": [
    "s3.pop()\n",
    "s3"
   ]
  },
  {
   "cell_type": "code",
   "execution_count": 60,
   "id": "dc13b3e0-f1bd-43a6-96b3-6d9ff79cbb84",
   "metadata": {},
   "outputs": [
    {
     "data": {
      "text/plain": [
       "{'devi', 'madhu', 'sumit', 'suraj'}"
      ]
     },
     "execution_count": 60,
     "metadata": {},
     "output_type": "execute_result"
    }
   ],
   "source": [
    "s3.discard('amit')\n",
    "s3"
   ]
  },
  {
   "cell_type": "code",
   "execution_count": 61,
   "id": "50d059f5-c499-4a90-9909-c63616c5f618",
   "metadata": {},
   "outputs": [
    {
     "data": {
      "text/plain": [
       "{('one', 'two', 'three', 'four', 'five')}"
      ]
     },
     "execution_count": 61,
     "metadata": {},
     "output_type": "execute_result"
    }
   ],
   "source": [
    "s6=s5.copy()\n",
    "s6"
   ]
  },
  {
   "cell_type": "markdown",
   "id": "a10959e5-90ac-44e0-acc1-3c8bd0c700f0",
   "metadata": {},
   "source": [
    "SET OPERATIONS"
   ]
  },
  {
   "cell_type": "markdown",
   "id": "0cbfe95b-674f-405f-bb0c-556c9339be1b",
   "metadata": {},
   "source": [
    "UNION"
   ]
  },
  {
   "cell_type": "code",
   "execution_count": 62,
   "id": "9a662c21-647e-491b-ba0c-85698dbe8700",
   "metadata": {},
   "outputs": [],
   "source": [
    "a = {1,2,3,4,5}\n",
    "b = {4,5,6,7,8}\n",
    "c = {8,9,10}"
   ]
  },
  {
   "cell_type": "code",
   "execution_count": 63,
   "id": "347bec39-2b44-41eb-8d80-41102f138b1c",
   "metadata": {},
   "outputs": [
    {
     "data": {
      "text/plain": [
       "{1, 2, 3, 4, 5, 6, 7, 8}"
      ]
     },
     "execution_count": 63,
     "metadata": {},
     "output_type": "execute_result"
    }
   ],
   "source": [
    "a|b"
   ]
  },
  {
   "cell_type": "code",
   "execution_count": 64,
   "id": "47fa4038-d0a2-4365-8295-57d2fc6dea42",
   "metadata": {},
   "outputs": [
    {
     "data": {
      "text/plain": [
       "{1, 2, 3, 4, 5, 6, 7, 8}"
      ]
     },
     "execution_count": 64,
     "metadata": {},
     "output_type": "execute_result"
    }
   ],
   "source": [
    "a.union(b)"
   ]
  },
  {
   "cell_type": "code",
   "execution_count": 65,
   "id": "ed4972d9-87bd-448f-87d2-094c2ee0be11",
   "metadata": {},
   "outputs": [
    {
     "data": {
      "text/plain": [
       "{1, 2, 3, 4, 5, 8, 9, 10}"
      ]
     },
     "execution_count": 65,
     "metadata": {},
     "output_type": "execute_result"
    }
   ],
   "source": [
    "a.union(c)"
   ]
  },
  {
   "cell_type": "code",
   "execution_count": 68,
   "id": "f1ac1bd8-52b7-4183-b85c-51300e0c1999",
   "metadata": {},
   "outputs": [
    {
     "data": {
      "text/plain": [
       "{1, 2, 3, 4, 5, 6, 7, 8, 9, 10}"
      ]
     },
     "execution_count": 68,
     "metadata": {},
     "output_type": "execute_result"
    }
   ],
   "source": [
    "a.update(b,c)\n",
    "a"
   ]
  },
  {
   "cell_type": "markdown",
   "id": "f000b755-180d-4f9b-9ffc-b39138c4d462",
   "metadata": {},
   "source": [
    "INTERSECTION"
   ]
  },
  {
   "cell_type": "code",
   "execution_count": 69,
   "id": "65d1cd91-8d1f-486f-8a75-dd5c8482195c",
   "metadata": {},
   "outputs": [],
   "source": [
    "a = {1,2,3,4,5}\n",
    "b ={4,5,6,7,8}"
   ]
  },
  {
   "cell_type": "code",
   "execution_count": 70,
   "id": "a5673c78-1c5d-497f-8bc8-c5d5322c90cf",
   "metadata": {},
   "outputs": [
    {
     "data": {
      "text/plain": [
       "{4, 5}"
      ]
     },
     "execution_count": 70,
     "metadata": {},
     "output_type": "execute_result"
    }
   ],
   "source": [
    "a&b"
   ]
  },
  {
   "cell_type": "code",
   "execution_count": 71,
   "id": "55e42ed8-cdbd-4cb6-a6e4-18ab0ac05b6b",
   "metadata": {},
   "outputs": [
    {
     "data": {
      "text/plain": [
       "{4, 5}"
      ]
     },
     "execution_count": 71,
     "metadata": {},
     "output_type": "execute_result"
    }
   ],
   "source": [
    "a.intersection(b)"
   ]
  },
  {
   "cell_type": "code",
   "execution_count": 72,
   "id": "1f5f80f1-4cf0-4f39-911b-1d2742e366be",
   "metadata": {},
   "outputs": [
    {
     "data": {
      "text/plain": [
       "{4, 5}"
      ]
     },
     "execution_count": 72,
     "metadata": {},
     "output_type": "execute_result"
    }
   ],
   "source": [
    "a.intersection_update(b)\n",
    "a"
   ]
  },
  {
   "cell_type": "markdown",
   "id": "91ff1b38-6370-4c63-9fe0-b7480e0d64a9",
   "metadata": {},
   "source": [
    "DIFFERENCE"
   ]
  },
  {
   "cell_type": "code",
   "execution_count": 73,
   "id": "346c1613-83a5-41b8-ab6c-5f7661ed06ce",
   "metadata": {},
   "outputs": [],
   "source": [
    "a = {1,2,3,4,5}\n",
    "b ={4,5,6,7,8}"
   ]
  },
  {
   "cell_type": "code",
   "execution_count": 74,
   "id": "1c2b5f83-8662-4ec1-b72e-9c571980406d",
   "metadata": {},
   "outputs": [
    {
     "data": {
      "text/plain": [
       "{1, 2, 3}"
      ]
     },
     "execution_count": 74,
     "metadata": {},
     "output_type": "execute_result"
    }
   ],
   "source": [
    "a-b"
   ]
  },
  {
   "cell_type": "code",
   "execution_count": 75,
   "id": "7e843d2d-7427-48bd-ac2e-4a05f1bfc632",
   "metadata": {},
   "outputs": [
    {
     "data": {
      "text/plain": [
       "{6, 7, 8}"
      ]
     },
     "execution_count": 75,
     "metadata": {},
     "output_type": "execute_result"
    }
   ],
   "source": [
    "b-a"
   ]
  },
  {
   "cell_type": "code",
   "execution_count": 76,
   "id": "0196f93d-d659-49ac-a153-e67815067468",
   "metadata": {},
   "outputs": [
    {
     "data": {
      "text/plain": [
       "{1, 2, 3}"
      ]
     },
     "execution_count": 76,
     "metadata": {},
     "output_type": "execute_result"
    }
   ],
   "source": [
    "a.difference(b)"
   ]
  },
  {
   "cell_type": "markdown",
   "id": "7696b735-c56a-4db0-9e7f-65d881346b24",
   "metadata": {},
   "source": [
    "symmetric_difference"
   ]
  },
  {
   "cell_type": "code",
   "execution_count": 77,
   "id": "bc5151b6-c7b7-4287-8d5e-e78051902140",
   "metadata": {},
   "outputs": [],
   "source": [
    "a = {1,2,3,4,5}\n",
    "b ={4,5,6,7,8}"
   ]
  },
  {
   "cell_type": "code",
   "execution_count": 78,
   "id": "c0efe76d-e139-4e7d-b42b-8dd6f36be896",
   "metadata": {},
   "outputs": [
    {
     "data": {
      "text/plain": [
       "{1, 2, 3, 6, 7, 8}"
      ]
     },
     "execution_count": 78,
     "metadata": {},
     "output_type": "execute_result"
    }
   ],
   "source": [
    "a^b"
   ]
  },
  {
   "cell_type": "code",
   "execution_count": 79,
   "id": "8922ef6a-7627-439d-9155-2549325797e2",
   "metadata": {},
   "outputs": [
    {
     "data": {
      "text/plain": [
       "{1, 2, 3, 6, 7, 8}"
      ]
     },
     "execution_count": 79,
     "metadata": {},
     "output_type": "execute_result"
    }
   ],
   "source": [
    "a.symmetric_difference(b)"
   ]
  },
  {
   "cell_type": "markdown",
   "id": "3274f39c-f9d9-4ff9-a607-4647026047dd",
   "metadata": {},
   "source": [
    "SUBSET , SUPERSET , DISJOINT"
   ]
  },
  {
   "cell_type": "code",
   "execution_count": 80,
   "id": "98f20bd5-4ba1-4a7a-a527-2134584237b1",
   "metadata": {},
   "outputs": [],
   "source": [
    "a1 = {1,2,3,4,5,6,7,8,9}\n",
    "b1 = {3,4,5,6,7,8}\n",
    "c1 = {10,20,30,40}"
   ]
  },
  {
   "cell_type": "code",
   "execution_count": 81,
   "id": "0ce8cbb1-5f83-4ab7-a37d-b2ad66b2bed5",
   "metadata": {},
   "outputs": [
    {
     "data": {
      "text/plain": [
       "True"
      ]
     },
     "execution_count": 81,
     "metadata": {},
     "output_type": "execute_result"
    }
   ],
   "source": [
    "b1.issubset(a1)"
   ]
  },
  {
   "cell_type": "code",
   "execution_count": 82,
   "id": "85664aa0-685e-4adc-8097-b5737f298874",
   "metadata": {},
   "outputs": [
    {
     "data": {
      "text/plain": [
       "True"
      ]
     },
     "execution_count": 82,
     "metadata": {},
     "output_type": "execute_result"
    }
   ],
   "source": [
    "a1.issuperset(b1)"
   ]
  },
  {
   "cell_type": "code",
   "execution_count": 84,
   "id": "3d5e9fe8-5b15-4ca9-9a0c-83cad671d055",
   "metadata": {},
   "outputs": [
    {
     "data": {
      "text/plain": [
       "True"
      ]
     },
     "execution_count": 84,
     "metadata": {},
     "output_type": "execute_result"
    }
   ],
   "source": [
    "c1.isdisjoint(a1)"
   ]
  },
  {
   "cell_type": "code",
   "execution_count": 85,
   "id": "cd2f2201-538c-4a82-9628-e0b5342009a0",
   "metadata": {},
   "outputs": [
    {
     "data": {
      "text/plain": [
       "False"
      ]
     },
     "execution_count": 85,
     "metadata": {},
     "output_type": "execute_result"
    }
   ],
   "source": [
    "b1.isdisjoint(a1)"
   ]
  },
  {
   "cell_type": "markdown",
   "id": "bf48fa59-0f75-446c-999d-da42c0724d8b",
   "metadata": {},
   "source": [
    "DICTIONARY"
   ]
  },
  {
   "cell_type": "code",
   "execution_count": 86,
   "id": "6597daa2-cbcb-4d10-add9-e83d79a9f855",
   "metadata": {},
   "outputs": [
    {
     "data": {
      "text/plain": [
       "{}"
      ]
     },
     "execution_count": 86,
     "metadata": {},
     "output_type": "execute_result"
    }
   ],
   "source": [
    "d=dict()\n",
    "d"
   ]
  },
  {
   "cell_type": "code",
   "execution_count": 87,
   "id": "30c1914e-c25a-4832-a59b-408e2792d5ca",
   "metadata": {},
   "outputs": [
    {
     "data": {
      "text/plain": [
       "dict"
      ]
     },
     "execution_count": 87,
     "metadata": {},
     "output_type": "execute_result"
    }
   ],
   "source": [
    "d1={}\n",
    "type(d1)"
   ]
  },
  {
   "cell_type": "code",
   "execution_count": 88,
   "id": "72715e2c-af80-47b7-bd35-35e9825f02b1",
   "metadata": {},
   "outputs": [
    {
     "data": {
      "text/plain": [
       "{'a': 'one', 'b': 'two', 'c': 'three', 'd': 'four', 'e': 'five', 'f': 'six'}"
      ]
     },
     "execution_count": 88,
     "metadata": {},
     "output_type": "execute_result"
    }
   ],
   "source": [
    "mydict=dict({'a':'one','b':'two','c':'three','d':'four','e':'five','f':'six'})\n",
    "mydict"
   ]
  },
  {
   "cell_type": "code",
   "execution_count": 89,
   "id": "a1ac84fa-223b-433c-8230-d81ee41c9cba",
   "metadata": {},
   "outputs": [
    {
     "data": {
      "text/plain": [
       "dict_keys(['a', 'b', 'c', 'd', 'e', 'f'])"
      ]
     },
     "execution_count": 89,
     "metadata": {},
     "output_type": "execute_result"
    }
   ],
   "source": [
    "mydict.keys()"
   ]
  },
  {
   "cell_type": "code",
   "execution_count": 90,
   "id": "22c72bff-c0ea-4d29-8452-6efb31940ac8",
   "metadata": {},
   "outputs": [
    {
     "data": {
      "text/plain": [
       "dict_values(['one', 'two', 'three', 'four', 'five', 'six'])"
      ]
     },
     "execution_count": 90,
     "metadata": {},
     "output_type": "execute_result"
    }
   ],
   "source": [
    "mydict.values()"
   ]
  },
  {
   "cell_type": "code",
   "execution_count": 91,
   "id": "f7f8efb8-d0e2-4470-bf43-f61455588adb",
   "metadata": {},
   "outputs": [
    {
     "data": {
      "text/plain": [
       "dict_items([('a', 'one'), ('b', 'two'), ('c', 'three'), ('d', 'four'), ('e', 'five'), ('f', 'six')])"
      ]
     },
     "execution_count": 91,
     "metadata": {},
     "output_type": "execute_result"
    }
   ],
   "source": [
    "mydict.items()"
   ]
  },
  {
   "cell_type": "code",
   "execution_count": 92,
   "id": "cbf761bc-baa6-4974-8660-12e2aef9b633",
   "metadata": {},
   "outputs": [
    {
     "data": {
      "text/plain": [
       "{1: 'one',\n",
       " 2: 'two',\n",
       " 'A': ['asif', 'john', 'maria'],\n",
       " 'B': ['bat', 'cat', 'hat']}"
      ]
     },
     "execution_count": 92,
     "metadata": {},
     "output_type": "execute_result"
    }
   ],
   "source": [
    "mydict1={1:'one',2:'two','A':['asif','john','maria'],'B':['bat','cat','hat']}\n",
    "mydict1"
   ]
  },
  {
   "cell_type": "code",
   "execution_count": 95,
   "id": "1e5e3148-a426-4e5a-aadc-ef2d867b814b",
   "metadata": {},
   "outputs": [
    {
     "data": {
      "text/plain": [
       "{'a': 40, 'c': 40, 'd': 40, 'b': 40}"
      ]
     },
     "execution_count": 95,
     "metadata": {},
     "output_type": "execute_result"
    }
   ],
   "source": [
    "keys = {'a','b','c','d'}\n",
    "value=40\n",
    "dict3 =dict.fromkeys(keys,value)\n",
    "dict3"
   ]
  },
  {
   "cell_type": "code",
   "execution_count": 97,
   "id": "cf6b0a97-9ca9-4ff9-9b7d-36c653e0fa6d",
   "metadata": {},
   "outputs": [
    {
     "data": {
      "text/plain": [
       "{'a': None, 'c': None, 'd': None, 'b': None}"
      ]
     },
     "execution_count": 97,
     "metadata": {},
     "output_type": "execute_result"
    }
   ],
   "source": [
    "key = {'a','b','c','d'}\n",
    "dict3 =dict.fromkeys(key)\n",
    "dict3"
   ]
  },
  {
   "cell_type": "code",
   "execution_count": 100,
   "id": "c341e1ec-177e-4b4e-92ef-9ce9e2cc16e3",
   "metadata": {},
   "outputs": [
    {
     "ename": "AttributeError",
     "evalue": "'int' object has no attribute 'append'",
     "output_type": "error",
     "traceback": [
      "\u001b[1;31m---------------------------------------------------------------------------\u001b[0m",
      "\u001b[1;31mAttributeError\u001b[0m                            Traceback (most recent call last)",
      "Cell \u001b[1;32mIn[100], line 1\u001b[0m\n\u001b[1;32m----> 1\u001b[0m value\u001b[38;5;241m.\u001b[39mappend(\u001b[38;5;124m'\u001b[39m\u001b[38;5;124mkiran\u001b[39m\u001b[38;5;124m'\u001b[39m)\n\u001b[0;32m      2\u001b[0m dict1\n",
      "\u001b[1;31mAttributeError\u001b[0m: 'int' object has no attribute 'append'"
     ]
    }
   ],
   "source": [
    "value.append('kiran')\n",
    "dict1"
   ]
  },
  {
   "cell_type": "markdown",
   "id": "993ebbbb-84f2-4707-80b6-cd1f50df38a8",
   "metadata": {},
   "source": [
    "ACCESSING ITEMS"
   ]
  },
  {
   "cell_type": "code",
   "execution_count": 101,
   "id": "e683209d-b7c0-45b1-bd32-3de4f4e7666e",
   "metadata": {},
   "outputs": [
    {
     "data": {
      "text/plain": [
       "{'a': 'one', 'b': 'two', 'c': 'three', 'd': 'four', 'e': 'five', 'f': 'six'}"
      ]
     },
     "execution_count": 101,
     "metadata": {},
     "output_type": "execute_result"
    }
   ],
   "source": [
    "mydict"
   ]
  },
  {
   "cell_type": "code",
   "execution_count": 102,
   "id": "9c00929e-f6cf-4c93-8433-e8a5d479603d",
   "metadata": {},
   "outputs": [
    {
     "data": {
      "text/plain": [
       "'four'"
      ]
     },
     "execution_count": 102,
     "metadata": {},
     "output_type": "execute_result"
    }
   ],
   "source": [
    "mydict['d']"
   ]
  },
  {
   "cell_type": "code",
   "execution_count": 104,
   "id": "b6adbc1f-9123-4b95-8e99-8ac326c88800",
   "metadata": {},
   "outputs": [
    {
     "data": {
      "text/plain": [
       "'four'"
      ]
     },
     "execution_count": 104,
     "metadata": {},
     "output_type": "execute_result"
    }
   ],
   "source": [
    "mydict.get('d')"
   ]
  },
  {
   "cell_type": "code",
   "execution_count": 105,
   "id": "1ca6cb13-2505-44c9-8f9f-9df565ffcdd1",
   "metadata": {},
   "outputs": [
    {
     "data": {
      "text/plain": [
       "{1: 'one',\n",
       " 2: 'two',\n",
       " 'A': ['asif', 'john', 'maria'],\n",
       " 'B': ['bat', 'cat', 'hat']}"
      ]
     },
     "execution_count": 105,
     "metadata": {},
     "output_type": "execute_result"
    }
   ],
   "source": [
    "mydict1"
   ]
  },
  {
   "cell_type": "code",
   "execution_count": 107,
   "id": "b61a41f5-50db-4e10-af48-6416c5452507",
   "metadata": {},
   "outputs": [
    {
     "data": {
      "text/plain": [
       "'one'"
      ]
     },
     "execution_count": 107,
     "metadata": {},
     "output_type": "execute_result"
    }
   ],
   "source": [
    "mydict['a']"
   ]
  },
  {
   "cell_type": "code",
   "execution_count": 108,
   "id": "4060553c-c961-4fbb-955a-f1c68fdb75b7",
   "metadata": {},
   "outputs": [
    {
     "data": {
      "text/plain": [
       "'two'"
      ]
     },
     "execution_count": 108,
     "metadata": {},
     "output_type": "execute_result"
    }
   ],
   "source": [
    "mydict1.get(2)"
   ]
  },
  {
   "cell_type": "markdown",
   "id": "1077feac-c3a8-4699-920d-2923b8bb5927",
   "metadata": {},
   "source": [
    "ADD REMOVE & CHANGE ITEMS"
   ]
  },
  {
   "cell_type": "code",
   "execution_count": 109,
   "id": "06f2b91f-5535-4c45-8498-548b18c11ede",
   "metadata": {},
   "outputs": [
    {
     "data": {
      "text/plain": [
       "{'a': 'one', 'b': 'two', 'c': 'three', 'd': 'four', 'e': 'five', 'f': 'six'}"
      ]
     },
     "execution_count": 109,
     "metadata": {},
     "output_type": "execute_result"
    }
   ],
   "source": [
    "mydict"
   ]
  },
  {
   "cell_type": "code",
   "execution_count": 110,
   "id": "641d639c-46af-4d07-acc7-27045a5e3435",
   "metadata": {},
   "outputs": [
    {
     "data": {
      "text/plain": [
       "{'a': 'amit', 'b': 'singh', 'c': 'three', 'd': 'four', 'e': 'five', 'f': 'six'}"
      ]
     },
     "execution_count": 110,
     "metadata": {},
     "output_type": "execute_result"
    }
   ],
   "source": [
    "mydict['a']='amit'\n",
    "mydict['b']='singh'\n",
    "mydict"
   ]
  },
  {
   "cell_type": "code",
   "execution_count": 111,
   "id": "480fa92e-8c37-4bca-a6d7-0483e248f177",
   "metadata": {},
   "outputs": [
    {
     "data": {
      "text/plain": [
       "{'a': 'amit',\n",
       " 'b': 'singh',\n",
       " 'c': 'three',\n",
       " 'd': 'four',\n",
       " 'e': 'five',\n",
       " 'f': 'six',\n",
       " 'job': 'datascience'}"
      ]
     },
     "execution_count": 111,
     "metadata": {},
     "output_type": "execute_result"
    }
   ],
   "source": [
    "t={'job':'datascience'}\n",
    "mydict.update(t)\n",
    "mydict"
   ]
  },
  {
   "cell_type": "code",
   "execution_count": 112,
   "id": "e7f4427b-620c-4a71-ac88-bad3f12b876f",
   "metadata": {},
   "outputs": [
    {
     "data": {
      "text/plain": [
       "{'a': 'amit',\n",
       " 'b': 'singh',\n",
       " 'c': 'three',\n",
       " 'd': 'four',\n",
       " 'e': 'five',\n",
       " 'f': 'six',\n",
       " 'job': 'datascience',\n",
       " 'DOB': 2003}"
      ]
     },
     "execution_count": 112,
     "metadata": {},
     "output_type": "execute_result"
    }
   ],
   "source": [
    "mydict['DOB']=2003\n",
    "mydict\n"
   ]
  },
  {
   "cell_type": "code",
   "execution_count": 113,
   "id": "97fd633b-eed3-4ea4-ab6b-3ce27da81f22",
   "metadata": {},
   "outputs": [
    {
     "data": {
      "text/plain": [
       "'six'"
      ]
     },
     "execution_count": 113,
     "metadata": {},
     "output_type": "execute_result"
    }
   ],
   "source": [
    "mydict.pop('f')"
   ]
  },
  {
   "cell_type": "code",
   "execution_count": 114,
   "id": "4bd1e7c3-2fe4-483b-aab0-f5a5261be677",
   "metadata": {},
   "outputs": [
    {
     "data": {
      "text/plain": [
       "('DOB', 2003)"
      ]
     },
     "execution_count": 114,
     "metadata": {},
     "output_type": "execute_result"
    }
   ],
   "source": [
    "mydict.popitem()"
   ]
  },
  {
   "cell_type": "code",
   "execution_count": 115,
   "id": "77cc5407-7acc-4fe7-933e-941f795b3c29",
   "metadata": {},
   "outputs": [
    {
     "data": {
      "text/plain": [
       "{'a': 'amit',\n",
       " 'b': 'singh',\n",
       " 'c': 'three',\n",
       " 'd': 'four',\n",
       " 'e': 'five',\n",
       " 'job': 'datascience'}"
      ]
     },
     "execution_count": 115,
     "metadata": {},
     "output_type": "execute_result"
    }
   ],
   "source": [
    "mydict"
   ]
  },
  {
   "cell_type": "code",
   "execution_count": 117,
   "id": "7cb1d9d7-e2d6-4bfe-80b5-181a564bec88",
   "metadata": {},
   "outputs": [
    {
     "data": {
      "text/plain": [
       "{1: 'one',\n",
       " 2: 'two',\n",
       " 'A': ['asif', 'john', 'maria'],\n",
       " 'B': ['bat', 'cat', 'hat']}"
      ]
     },
     "execution_count": 117,
     "metadata": {},
     "output_type": "execute_result"
    }
   ],
   "source": [
    "mydict1"
   ]
  },
  {
   "cell_type": "code",
   "execution_count": 120,
   "id": "7be81bf0-a139-4462-bc2a-6b43d4f86d42",
   "metadata": {},
   "outputs": [],
   "source": [
    "mydict1.clear()\n"
   ]
  },
  {
   "cell_type": "code",
   "execution_count": 121,
   "id": "c0333d48-ea21-4e31-9657-4db076028cba",
   "metadata": {},
   "outputs": [
    {
     "data": {
      "text/plain": [
       "{}"
      ]
     },
     "execution_count": 121,
     "metadata": {},
     "output_type": "execute_result"
    }
   ],
   "source": [
    "mydict1"
   ]
  },
  {
   "cell_type": "code",
   "execution_count": 122,
   "id": "eae40ace-0143-4fc3-8651-12bb3db97762",
   "metadata": {},
   "outputs": [],
   "source": [
    "del mydict"
   ]
  },
  {
   "cell_type": "code",
   "execution_count": 123,
   "id": "23a0de30-cc8a-4404-9452-5ff17eff8c27",
   "metadata": {},
   "outputs": [
    {
     "ename": "NameError",
     "evalue": "name 'mydict' is not defined",
     "output_type": "error",
     "traceback": [
      "\u001b[1;31m---------------------------------------------------------------------------\u001b[0m",
      "\u001b[1;31mNameError\u001b[0m                                 Traceback (most recent call last)",
      "Cell \u001b[1;32mIn[123], line 1\u001b[0m\n\u001b[1;32m----> 1\u001b[0m mydict\n",
      "\u001b[1;31mNameError\u001b[0m: name 'mydict' is not defined"
     ]
    }
   ],
   "source": [
    "mydict"
   ]
  },
  {
   "cell_type": "code",
   "execution_count": 124,
   "id": "19c014c4-58c7-4305-a8a7-26a8aad8ae56",
   "metadata": {},
   "outputs": [
    {
     "ename": "NameError",
     "evalue": "name 'mydict' is not defined",
     "output_type": "error",
     "traceback": [
      "\u001b[1;31m---------------------------------------------------------------------------\u001b[0m",
      "\u001b[1;31mNameError\u001b[0m                                 Traceback (most recent call last)",
      "Cell \u001b[1;32mIn[124], line 1\u001b[0m\n\u001b[1;32m----> 1\u001b[0m \u001b[38;5;28;01mfor\u001b[39;00m i \u001b[38;5;129;01min\u001b[39;00m mydict:\n\u001b[0;32m      2\u001b[0m     \u001b[38;5;28mprint\u001b[39m(i)\n",
      "\u001b[1;31mNameError\u001b[0m: name 'mydict' is not defined"
     ]
    }
   ],
   "source": [
    "for i in mydict:\n",
    "    print(i)"
   ]
  },
  {
   "cell_type": "code",
   "execution_count": 125,
   "id": "a1fda64a-0400-4e78-b383-1028d387d3fc",
   "metadata": {},
   "outputs": [
    {
     "ename": "NameError",
     "evalue": "name 'mydict' is not defined",
     "output_type": "error",
     "traceback": [
      "\u001b[1;31m---------------------------------------------------------------------------\u001b[0m",
      "\u001b[1;31mNameError\u001b[0m                                 Traceback (most recent call last)",
      "Cell \u001b[1;32mIn[125], line 1\u001b[0m\n\u001b[1;32m----> 1\u001b[0m mydict\n",
      "\u001b[1;31mNameError\u001b[0m: name 'mydict' is not defined"
     ]
    }
   ],
   "source": [
    "mydict"
   ]
  },
  {
   "cell_type": "code",
   "execution_count": null,
   "id": "f39d2578-6eb1-47b9-aa59-8d6b48afa7d5",
   "metadata": {},
   "outputs": [],
   "source": []
  },
  {
   "cell_type": "code",
   "execution_count": 126,
   "id": "ffe9f991-38c8-4b1c-a008-cb8b59e59dc0",
   "metadata": {},
   "outputs": [
    {
     "data": {
      "text/plain": [
       "{}"
      ]
     },
     "execution_count": 126,
     "metadata": {},
     "output_type": "execute_result"
    }
   ],
   "source": [
    "mydict1"
   ]
  },
  {
   "cell_type": "code",
   "execution_count": 127,
   "id": "68be4242-54b3-4c9a-b02e-0fb4c444e783",
   "metadata": {},
   "outputs": [
    {
     "ename": "NameError",
     "evalue": "name 'mydict' is not defined",
     "output_type": "error",
     "traceback": [
      "\u001b[1;31m---------------------------------------------------------------------------\u001b[0m",
      "\u001b[1;31mNameError\u001b[0m                                 Traceback (most recent call last)",
      "Cell \u001b[1;32mIn[127], line 1\u001b[0m\n\u001b[1;32m----> 1\u001b[0m mydict\n",
      "\u001b[1;31mNameError\u001b[0m: name 'mydict' is not defined"
     ]
    }
   ],
   "source": [
    "mydict"
   ]
  },
  {
   "cell_type": "code",
   "execution_count": null,
   "id": "8cce79f4-476c-4866-9184-dfb4c65b429a",
   "metadata": {},
   "outputs": [],
   "source": []
  }
 ],
 "metadata": {
  "kernelspec": {
   "display_name": "Python 3 (ipykernel)",
   "language": "python",
   "name": "python3"
  },
  "language_info": {
   "codemirror_mode": {
    "name": "ipython",
    "version": 3
   },
   "file_extension": ".py",
   "mimetype": "text/x-python",
   "name": "python",
   "nbconvert_exporter": "python",
   "pygments_lexer": "ipython3",
   "version": "3.12.4"
  }
 },
 "nbformat": 4,
 "nbformat_minor": 5
}
